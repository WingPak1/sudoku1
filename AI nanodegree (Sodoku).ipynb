{
 "cells": [
  {
   "cell_type": "markdown",
   "metadata": {},
   "source": [
    "## 1. boxes will have labels 'A1', 'A2', ..., 'I9'\n",
    "## 2. rows, columns, and 3x3 squares, will be called units\n",
    "## 3. each unit is a set of 9 boxes\n",
    "## 4. there are 27 units in total\n",
    "## 5. For a particular box (such as 'A1'), its peers will be all other boxes that belong to the same unit (namely, those that belong to the same row, column, or 3x3 square).\n"
   ]
  },
  {
   "cell_type": "code",
   "execution_count": 1,
   "metadata": {
    "collapsed": false
   },
   "outputs": [
    {
     "name": "stdout",
     "output_type": "stream",
     "text": [
      "[['A1', 'A2', 'A3', 'A4', 'A5', 'A6', 'A7', 'A8', 'A9'], ['B1', 'B2', 'B3', 'B4', 'B5', 'B6', 'B7', 'B8', 'B9'], ['C1', 'C2', 'C3', 'C4', 'C5', 'C6', 'C7', 'C8', 'C9'], ['D1', 'D2', 'D3', 'D4', 'D5', 'D6', 'D7', 'D8', 'D9'], ['E1', 'E2', 'E3', 'E4', 'E5', 'E6', 'E7', 'E8', 'E9'], ['F1', 'F2', 'F3', 'F4', 'F5', 'F6', 'F7', 'F8', 'F9'], ['G1', 'G2', 'G3', 'G4', 'G5', 'G6', 'G7', 'G8', 'G9'], ['H1', 'H2', 'H3', 'H4', 'H5', 'H6', 'H7', 'H8', 'H9'], ['I1', 'I2', 'I3', 'I4', 'I5', 'I6', 'I7', 'I8', 'I9']]\n",
      "[['A1', 'B1', 'C1', 'D1', 'E1', 'F1', 'G1', 'H1', 'I1'], ['A2', 'B2', 'C2', 'D2', 'E2', 'F2', 'G2', 'H2', 'I2'], ['A3', 'B3', 'C3', 'D3', 'E3', 'F3', 'G3', 'H3', 'I3'], ['A4', 'B4', 'C4', 'D4', 'E4', 'F4', 'G4', 'H4', 'I4'], ['A5', 'B5', 'C5', 'D5', 'E5', 'F5', 'G5', 'H5', 'I5'], ['A6', 'B6', 'C6', 'D6', 'E6', 'F6', 'G6', 'H6', 'I6'], ['A7', 'B7', 'C7', 'D7', 'E7', 'F7', 'G7', 'H7', 'I7'], ['A8', 'B8', 'C8', 'D8', 'E8', 'F8', 'G8', 'H8', 'I8'], ['A9', 'B9', 'C9', 'D9', 'E9', 'F9', 'G9', 'H9', 'I9']]\n",
      "[['A1', 'A2', 'A3', 'B1', 'B2', 'B3', 'C1', 'C2', 'C3'], ['A4', 'A5', 'A6', 'B4', 'B5', 'B6', 'C4', 'C5', 'C6'], ['A7', 'A8', 'A9', 'B7', 'B8', 'B9', 'C7', 'C8', 'C9'], ['D1', 'D2', 'D3', 'E1', 'E2', 'E3', 'F1', 'F2', 'F3'], ['D4', 'D5', 'D6', 'E4', 'E5', 'E6', 'F4', 'F5', 'F6'], ['D7', 'D8', 'D9', 'E7', 'E8', 'E9', 'F7', 'F8', 'F9'], ['G1', 'G2', 'G3', 'F1', 'F2', 'F3', 'I1', 'I2', 'I3'], ['G4', 'G5', 'G6', 'F4', 'F5', 'F6', 'I4', 'I5', 'I6'], ['G7', 'G8', 'G9', 'F7', 'F8', 'F9', 'I7', 'I8', 'I9']]\n"
     ]
    }
   ],
   "source": [
    "row = 'ABCDEFGHI'\n",
    "col = '123456789'\n",
    "\n",
    "def cross(a,b):\n",
    "    return [r+c for r in a for c in b]\n",
    "\n",
    "boxes = cross(row,col)\n",
    "row_unit = [cross(r,col) for r in row]\n",
    "col_unit = [cross(row,c) for c in col]\n",
    "square_unit = [cross(r,c) for r in ['ABC','DEF','GFI'] for c in ['123','456','789'] ]\n",
    "unitlist = row_unit + col_unit + square_unit\n",
    "\n",
    "\n",
    "#print (cross(row,col))\n",
    "print (row_unit)\n",
    "print (col_unit)\n",
    "print (square_unit)\n",
    "#print (unitlist)"
   ]
  },
  {
   "cell_type": "code",
   "execution_count": 2,
   "metadata": {
    "collapsed": false
   },
   "outputs": [],
   "source": [
    "units = dict((s, [u for u in unitlist if s in u]) \n",
    "             for s in boxes)\n",
    "peers = dict((s, set(sum(units[s],[]))-set([s]))\n",
    "             for s in boxes)"
   ]
  },
  {
   "cell_type": "code",
   "execution_count": 3,
   "metadata": {
    "collapsed": false
   },
   "outputs": [],
   "source": [
    "# Dictionary Form\n",
    "def grid_values(grid):\n",
    "    chars = []\n",
    "    digits = '123456789'\n",
    "    for c in grid:\n",
    "        if c in digits:\n",
    "            chars.append(c)\n",
    "        if c == '.':\n",
    "            chars.append(digits)\n",
    "    assert len(chars) == 81\n",
    "    return dict(zip(boxes, chars))"
   ]
  },
  {
   "cell_type": "code",
   "execution_count": 4,
   "metadata": {
    "collapsed": false
   },
   "outputs": [],
   "source": [
    "a = grid_values('..3.2.6..9..3.5..1..18.64....81.29..7.......8..67.82....26.95..8..2.3..9..5.1.3..')"
   ]
  },
  {
   "cell_type": "code",
   "execution_count": 5,
   "metadata": {
    "collapsed": true
   },
   "outputs": [],
   "source": [
    "def display(values):\n",
    "    \"\"\"\n",
    "    Display the values as a 2-D grid.\n",
    "    Input: The sudoku in dictionary form\n",
    "    Output: None\n",
    "    \"\"\"\n",
    "    \n",
    "    width = 1+max(len(values[s]) for s in boxes)\n",
    "    line = '+'.join(['-'*(width*3)]*3)\n",
    "    for r in row:\n",
    "        print(''.join(values[r+c].center(width)+('|' if c in '36' else '')\n",
    "                      for c in col))\n",
    "        if r in 'CF': print(line)\n",
    "    return"
   ]
  },
  {
   "cell_type": "code",
   "execution_count": 12,
   "metadata": {
    "collapsed": true
   },
   "outputs": [],
   "source": [
    "# Elimination\n",
    "#Now, let's finish the code for the function eliminate, which will take as input a puzzle in dictionary form. \n",
    "#The function will iterate over all the boxes in the puzzle that only have one value assigned to them, \n",
    "#and it will remove this value from every one of its peers.\n",
    "\n",
    "\n",
    "def eliminate(values):   #values is the dictionary form of the sudoku\n",
    "    solved_values = [box for box in values.keys() if len(values[box]) == 1]   #creat a list of keys which only has one number\n",
    "    for box in solved_values:   #loop through the boxes with only one value\n",
    "        digit = values[box]   #name digit as the one value of those boxes\n",
    "        for peer in peers[box]:   #loop through the peer of the boxes with only one value\n",
    "            values[peer] = values[peer].replace(digit,'')   #within the possibilities of each peer, replace the digit with blank   \n",
    "    return values\n"
   ]
  },
  {
   "cell_type": "code",
   "execution_count": 13,
   "metadata": {
    "collapsed": false
   },
   "outputs": [],
   "source": [
    "#Only Choice\n",
    "#take as input a puzzle in dictionary form. The function will go through all the units, \n",
    "#and if there is a unit with a digit that only fits in one possible box, it will assign that digit to that box.\n",
    "\n",
    "def only_choice(values):\n",
    "    new_values = values.copy()  # note: do not modify original values\n",
    "    for unit in unitlist:\n",
    "        for digit in '123456789':\n",
    "            dplaces = [box for box in unit if digit in values[box]]\n",
    "            if len(dplaces) == 1:\n",
    "                new_values[dplaces[0]] = digit\n",
    "    return new_values\n",
    "\n",
    "\n"
   ]
  },
  {
   "cell_type": "code",
   "execution_count": 14,
   "metadata": {
    "collapsed": false
   },
   "outputs": [],
   "source": [
    "##Constraint Propagation\n",
    "\n",
    "a = grid_values('..3.2.6..9..3.5..1..18.64....81.29..7.......8..67.82....26.95..8..2.3..9..5.1.3..')\n",
    "\n",
    "def reduce_puzzle(values):\n",
    "\n",
    "    solved_values = [box for box in values.keys() if len(values[box]) == 1]\n",
    "    \n",
    "    stalled = False\n",
    "    while not stalled:   #while not false, do the following....\n",
    "        # Check how many boxes have a determined value\n",
    "        solved_values_before = len([box for box in values.keys() if len(values[box]) == 1])\n",
    "        # Use the Eliminate Strategy\n",
    "        values = eliminate(values)\n",
    "        # Use the Only Choice Strategy\n",
    "        values = only_choice(values)\n",
    "        # Check how many boxes have a determined value, to compare\n",
    "        solved_values_after = len([box for box in values.keys() if len(values[box]) == 1])\n",
    "        # If no new values were added, stop the loop.\n",
    "        stalled = solved_values_before == solved_values_after == 81\n",
    "        # Sanity check, return False if there is a box with zero available values:\n",
    "        if len([box for box in values.keys() if len(values[box]) == 0]):\n",
    "            return False\n",
    "    return values\n",
    "\n"
   ]
  },
  {
   "cell_type": "code",
   "execution_count": 7,
   "metadata": {
    "collapsed": false
   },
   "outputs": [],
   "source": [
    "grid2 = '4.....8.5.3..........7......2.....6.....8.4......1.......6.3.7.5..2.....1.4......'\n",
    "values = grid_values(grid2)"
   ]
  },
  {
   "cell_type": "code",
   "execution_count": null,
   "metadata": {
    "collapsed": false
   },
   "outputs": [],
   "source": [
    "display(reduce_puzzle(values))"
   ]
  },
  {
   "cell_type": "code",
   "execution_count": null,
   "metadata": {
    "collapsed": true
   },
   "outputs": [],
   "source": []
  },
  {
   "cell_type": "code",
   "execution_count": null,
   "metadata": {
    "collapsed": true
   },
   "outputs": [],
   "source": []
  }
 ],
 "metadata": {
  "kernelspec": {
   "display_name": "Python 3",
   "language": "python",
   "name": "python3"
  },
  "language_info": {
   "codemirror_mode": {
    "name": "ipython",
    "version": 3
   },
   "file_extension": ".py",
   "mimetype": "text/x-python",
   "name": "python",
   "nbconvert_exporter": "python",
   "pygments_lexer": "ipython3",
   "version": "3.6.0"
  }
 },
 "nbformat": 4,
 "nbformat_minor": 2
}
